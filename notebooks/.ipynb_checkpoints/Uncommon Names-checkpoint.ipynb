{
 "cells": [
  {
   "cell_type": "markdown",
   "metadata": {},
   "source": [
    "# Uncommon names\n",
    "\n",
    "Here we want to answer: Which names are most frequent in a district compared to average Berlin?\n",
    "\n",
    "For each name, we compare:\n",
    "\n",
    "freq_in_district / mean( freq_in_all_districts )\n",
    "\n",
    "The result is how often more times a name is chosen in a district compared to average Berlin. Then we take the top names form that list."
   ]
  },
  {
   "cell_type": "code",
   "execution_count": 1,
   "metadata": {},
   "outputs": [],
   "source": [
    "import pandas as pd\n",
    "import numpy as np"
   ]
  },
  {
   "cell_type": "markdown",
   "metadata": {},
   "source": [
    "### Load Data"
   ]
  },
  {
   "cell_type": "code",
   "execution_count": 2,
   "metadata": {},
   "outputs": [
    {
     "data": {
      "text/html": [
       "<div>\n",
       "<style scoped>\n",
       "    .dataframe tbody tr th:only-of-type {\n",
       "        vertical-align: middle;\n",
       "    }\n",
       "\n",
       "    .dataframe tbody tr th {\n",
       "        vertical-align: top;\n",
       "    }\n",
       "\n",
       "    .dataframe thead th {\n",
       "        text-align: right;\n",
       "    }\n",
       "</style>\n",
       "<table border=\"1\" class=\"dataframe\">\n",
       "  <thead>\n",
       "    <tr style=\"text-align: right;\">\n",
       "      <th></th>\n",
       "      <th>anzahl</th>\n",
       "      <th>bezirk</th>\n",
       "      <th>frequency</th>\n",
       "      <th>geschlecht</th>\n",
       "      <th>vorname</th>\n",
       "      <th>year</th>\n",
       "    </tr>\n",
       "  </thead>\n",
       "  <tbody>\n",
       "    <tr>\n",
       "      <th>0</th>\n",
       "      <td>122</td>\n",
       "      <td>Charlottenburg-Wilmersdorf</td>\n",
       "      <td>0.013676</td>\n",
       "      <td>w</td>\n",
       "      <td>Marie</td>\n",
       "      <td>2012</td>\n",
       "    </tr>\n",
       "    <tr>\n",
       "      <th>1</th>\n",
       "      <td>105</td>\n",
       "      <td>Charlottenburg-Wilmersdorf</td>\n",
       "      <td>0.011770</td>\n",
       "      <td>w</td>\n",
       "      <td>Sophie</td>\n",
       "      <td>2012</td>\n",
       "    </tr>\n",
       "    <tr>\n",
       "      <th>2</th>\n",
       "      <td>78</td>\n",
       "      <td>Charlottenburg-Wilmersdorf</td>\n",
       "      <td>0.008743</td>\n",
       "      <td>w</td>\n",
       "      <td>Charlotte</td>\n",
       "      <td>2012</td>\n",
       "    </tr>\n",
       "    <tr>\n",
       "      <th>3</th>\n",
       "      <td>69</td>\n",
       "      <td>Charlottenburg-Wilmersdorf</td>\n",
       "      <td>0.007735</td>\n",
       "      <td>w</td>\n",
       "      <td>Maria</td>\n",
       "      <td>2012</td>\n",
       "    </tr>\n",
       "    <tr>\n",
       "      <th>4</th>\n",
       "      <td>66</td>\n",
       "      <td>Charlottenburg-Wilmersdorf</td>\n",
       "      <td>0.007398</td>\n",
       "      <td>m</td>\n",
       "      <td>Paul</td>\n",
       "      <td>2012</td>\n",
       "    </tr>\n",
       "  </tbody>\n",
       "</table>\n",
       "</div>"
      ],
      "text/plain": [
       "   anzahl                      bezirk  frequency geschlecht    vorname  year\n",
       "0     122  Charlottenburg-Wilmersdorf   0.013676          w      Marie  2012\n",
       "1     105  Charlottenburg-Wilmersdorf   0.011770          w     Sophie  2012\n",
       "2      78  Charlottenburg-Wilmersdorf   0.008743          w  Charlotte  2012\n",
       "3      69  Charlottenburg-Wilmersdorf   0.007735          w      Maria  2012\n",
       "4      66  Charlottenburg-Wilmersdorf   0.007398          m       Paul  2012"
      ]
     },
     "execution_count": 2,
     "metadata": {},
     "output_type": "execute_result"
    }
   ],
   "source": [
    "def load_data():\n",
    "    \" Loads and returns the dataframe \"    \n",
    "    data_path = '../data/'\n",
    "    df = pd.read_csv(data_path + 'processed/namedata.csv', sep=',')\n",
    "    return df\n",
    "\n",
    "df = load_data()\n",
    "df.head()    "
   ]
  },
  {
   "cell_type": "markdown",
   "metadata": {},
   "source": [
    "## Compute deviation"
   ]
  },
  {
   "cell_type": "code",
   "execution_count": 3,
   "metadata": {},
   "outputs": [],
   "source": [
    "year = 2017"
   ]
  },
  {
   "cell_type": "code",
   "execution_count": 4,
   "metadata": {},
   "outputs": [
    {
     "data": {
      "text/html": [
       "<div>\n",
       "<style scoped>\n",
       "    .dataframe tbody tr th:only-of-type {\n",
       "        vertical-align: middle;\n",
       "    }\n",
       "\n",
       "    .dataframe tbody tr th {\n",
       "        vertical-align: top;\n",
       "    }\n",
       "\n",
       "    .dataframe thead th {\n",
       "        text-align: right;\n",
       "    }\n",
       "</style>\n",
       "<table border=\"1\" class=\"dataframe\">\n",
       "  <thead>\n",
       "    <tr style=\"text-align: right;\">\n",
       "      <th></th>\n",
       "      <th>bezirk</th>\n",
       "      <th>vorname</th>\n",
       "      <th>anzahl</th>\n",
       "      <th>frequency</th>\n",
       "      <th>mean_freq</th>\n",
       "      <th>deviation</th>\n",
       "    </tr>\n",
       "  </thead>\n",
       "  <tbody>\n",
       "    <tr>\n",
       "      <th>0</th>\n",
       "      <td>Charlottenburg-Wilmersdorf</td>\n",
       "      <td>Aaliyah</td>\n",
       "      <td>1</td>\n",
       "      <td>0.000105</td>\n",
       "      <td>0.000321</td>\n",
       "      <td>0.327615</td>\n",
       "    </tr>\n",
       "    <tr>\n",
       "      <th>1</th>\n",
       "      <td>Friedrichshain-Kreuzberg</td>\n",
       "      <td>Aaliyah</td>\n",
       "      <td>2</td>\n",
       "      <td>0.000235</td>\n",
       "      <td>0.000321</td>\n",
       "      <td>0.733231</td>\n",
       "    </tr>\n",
       "    <tr>\n",
       "      <th>2</th>\n",
       "      <td>Mitte</td>\n",
       "      <td>Aaliyah</td>\n",
       "      <td>2</td>\n",
       "      <td>0.000235</td>\n",
       "      <td>0.000321</td>\n",
       "      <td>0.732542</td>\n",
       "    </tr>\n",
       "    <tr>\n",
       "      <th>3</th>\n",
       "      <td>Reinickendorf</td>\n",
       "      <td>Aaliyah</td>\n",
       "      <td>1</td>\n",
       "      <td>0.000568</td>\n",
       "      <td>0.000321</td>\n",
       "      <td>1.770796</td>\n",
       "    </tr>\n",
       "    <tr>\n",
       "      <th>4</th>\n",
       "      <td>Spandau</td>\n",
       "      <td>Aaliyah</td>\n",
       "      <td>1</td>\n",
       "      <td>0.000168</td>\n",
       "      <td>0.000321</td>\n",
       "      <td>0.522656</td>\n",
       "    </tr>\n",
       "  </tbody>\n",
       "</table>\n",
       "</div>"
      ],
      "text/plain": [
       "                       bezirk  vorname  anzahl  frequency  mean_freq  \\\n",
       "0  Charlottenburg-Wilmersdorf  Aaliyah       1   0.000105   0.000321   \n",
       "1    Friedrichshain-Kreuzberg  Aaliyah       2   0.000235   0.000321   \n",
       "2                       Mitte  Aaliyah       2   0.000235   0.000321   \n",
       "3               Reinickendorf  Aaliyah       1   0.000568   0.000321   \n",
       "4                     Spandau  Aaliyah       1   0.000168   0.000321   \n",
       "\n",
       "   deviation  \n",
       "0   0.327615  \n",
       "1   0.733231  \n",
       "2   0.732542  \n",
       "3   1.770796  \n",
       "4   0.522656  "
      ]
     },
     "execution_count": 4,
     "metadata": {},
     "output_type": "execute_result"
    }
   ],
   "source": [
    "def get_deviation(df, year):\n",
    "    # Filter by year\n",
    "    dfyear =  df[df['year']==year]\n",
    "    # Count up all names (sum over gender)\n",
    "    name_counts = dfyear.groupby(by=['bezirk', 'vorname']).sum()\n",
    "    # Find total count in bezirk for all names\n",
    "    bezirk_counts = name_counts.groupby(by=['bezirk']).sum()\n",
    "    bezirk_counts = bezirk_counts.rename(columns={'anzahl': 'anzahl_bezirk'})\n",
    "    # Merge name counts and bezirk counts\n",
    "    compare = pd.merge(bezirk_counts, name_counts, left_index=True, right_index=True).reset_index()\n",
    "    # Calculate the frequency of each name\n",
    "    compare['frequency'] = compare['anzahl'] / compare['anzahl_bezirk']\n",
    "    # Calulate the mean frequency of each name for all Berlin and merge\n",
    "    mean_freqs = compare.groupby(by='vorname').mean()['frequency']\n",
    "    mean_freqs.name = 'mean_freq'\n",
    "    compare = pd.merge(compare, mean_freqs.reset_index(), left_on='vorname', right_on='vorname')\n",
    "    # Calculate deviation from mean for each name\n",
    "    compare['deviation'] = compare['frequency'] / compare['mean_freq']\n",
    "    compare = compare[['bezirk', 'vorname', 'anzahl', 'frequency', 'mean_freq', 'deviation']]\n",
    "    return compare\n",
    "\n",
    "deviation = get_deviation(df, year)\n",
    "deviation.head()"
   ]
  },
  {
   "cell_type": "markdown",
   "metadata": {},
   "source": [
    "We use only those uncommon names with count above a threshold - we don't want too exotic names. Here we look at how high we can set the threshold and still get enough names for the graph (around 10). Reinickendorf seems to have low counts, which is why we set a separate threshold for it"
   ]
  },
  {
   "cell_type": "code",
   "execution_count": 5,
   "metadata": {},
   "outputs": [
    {
     "name": "stdout",
     "output_type": "stream",
     "text": [
      "Charlottenburg-Wilmersdorf 162\n",
      "Friedrichshain-Kreuzberg 128\n",
      "Mitte 126\n",
      "Reinickendorf 4\n",
      "Spandau 98\n",
      "Tempelhof-Schöneberg 175\n",
      "Treptow-Köpenick 22\n",
      "Lichtenberg 71\n",
      "Neukölln 56\n",
      "Pankow 158\n",
      "Steglitz-Zehlendorf 12\n",
      "Marzahn-Hellersdorf 18\n"
     ]
    }
   ],
   "source": [
    "for bezirk in deviation['bezirk'].unique():\n",
    "    print(bezirk, deviation[(deviation['anzahl']>10) & (deviation['bezirk']==bezirk)].__len__())"
   ]
  },
  {
   "cell_type": "markdown",
   "metadata": {},
   "source": [
    "Now, we get the top 10 uncommon names for each district and save them"
   ]
  },
  {
   "cell_type": "code",
   "execution_count": 6,
   "metadata": {},
   "outputs": [
    {
     "data": {
      "text/html": [
       "<div>\n",
       "<style scoped>\n",
       "    .dataframe tbody tr th:only-of-type {\n",
       "        vertical-align: middle;\n",
       "    }\n",
       "\n",
       "    .dataframe tbody tr th {\n",
       "        vertical-align: top;\n",
       "    }\n",
       "\n",
       "    .dataframe thead th {\n",
       "        text-align: right;\n",
       "    }\n",
       "</style>\n",
       "<table border=\"1\" class=\"dataframe\">\n",
       "  <thead>\n",
       "    <tr style=\"text-align: right;\">\n",
       "      <th></th>\n",
       "      <th>bezirk</th>\n",
       "      <th>vorname</th>\n",
       "      <th>anzahl</th>\n",
       "      <th>frequency</th>\n",
       "      <th>mean_freq</th>\n",
       "      <th>deviation</th>\n",
       "    </tr>\n",
       "  </thead>\n",
       "  <tbody>\n",
       "    <tr>\n",
       "      <th>2313</th>\n",
       "      <td>Charlottenburg-Wilmersdorf</td>\n",
       "      <td>Caspar</td>\n",
       "      <td>21</td>\n",
       "      <td>0.002208</td>\n",
       "      <td>0.000819</td>\n",
       "      <td>2.695510</td>\n",
       "    </tr>\n",
       "    <tr>\n",
       "      <th>14109</th>\n",
       "      <td>Charlottenburg-Wilmersdorf</td>\n",
       "      <td>William</td>\n",
       "      <td>14</td>\n",
       "      <td>0.001472</td>\n",
       "      <td>0.000645</td>\n",
       "      <td>2.282402</td>\n",
       "    </tr>\n",
       "    <tr>\n",
       "      <th>5585</th>\n",
       "      <td>Charlottenburg-Wilmersdorf</td>\n",
       "      <td>Hugo</td>\n",
       "      <td>15</td>\n",
       "      <td>0.001577</td>\n",
       "      <td>0.000717</td>\n",
       "      <td>2.200057</td>\n",
       "    </tr>\n",
       "    <tr>\n",
       "      <th>2232</th>\n",
       "      <td>Charlottenburg-Wilmersdorf</td>\n",
       "      <td>Carla</td>\n",
       "      <td>12</td>\n",
       "      <td>0.001261</td>\n",
       "      <td>0.000593</td>\n",
       "      <td>2.125977</td>\n",
       "    </tr>\n",
       "    <tr>\n",
       "      <th>6886</th>\n",
       "      <td>Charlottenburg-Wilmersdorf</td>\n",
       "      <td>Julius</td>\n",
       "      <td>32</td>\n",
       "      <td>0.003364</td>\n",
       "      <td>0.001591</td>\n",
       "      <td>2.113881</td>\n",
       "    </tr>\n",
       "  </tbody>\n",
       "</table>\n",
       "</div>"
      ],
      "text/plain": [
       "                           bezirk  vorname  anzahl  frequency  mean_freq  \\\n",
       "2313   Charlottenburg-Wilmersdorf   Caspar      21   0.002208   0.000819   \n",
       "14109  Charlottenburg-Wilmersdorf  William      14   0.001472   0.000645   \n",
       "5585   Charlottenburg-Wilmersdorf     Hugo      15   0.001577   0.000717   \n",
       "2232   Charlottenburg-Wilmersdorf    Carla      12   0.001261   0.000593   \n",
       "6886   Charlottenburg-Wilmersdorf   Julius      32   0.003364   0.001591   \n",
       "\n",
       "       deviation  \n",
       "2313    2.695510  \n",
       "14109   2.282402  \n",
       "5585    2.200057  \n",
       "2232    2.125977  \n",
       "6886    2.113881  "
      ]
     },
     "execution_count": 6,
     "metadata": {},
     "output_type": "execute_result"
    }
   ],
   "source": [
    "dfs = []\n",
    "for bezirk in deviation['bezirk'].unique():\n",
    "    min_anzahl = 10 if bezirk!='Reinickendorf' else 7\n",
    "    df_dev = deviation[ (deviation['anzahl']>min_anzahl) & (deviation['bezirk']==bezirk) ].sort_values(by=['deviation'], ascending=False).head(10)\n",
    "    dfs.append(df_dev)\n",
    "uncommon = pd.concat(dfs)\n",
    "uncommon.head()"
   ]
  },
  {
   "cell_type": "markdown",
   "metadata": {},
   "source": [
    "### Save result"
   ]
  },
  {
   "cell_type": "code",
   "execution_count": 7,
   "metadata": {},
   "outputs": [],
   "source": [
    "def save_df(uncommon, year):\n",
    "    save_df = uncommon.rename(columns={'deviation': 'freq_dev'})\n",
    "    save_df['freq_dev'] = save_df['freq_dev'].apply(lambda x: int(x*100)) \n",
    "#     save_df['bezirk'] = save_df['bezirk'].apply(lambda x: x.replace('oe','ö').title())\n",
    "#     save_df = save_df[['bezirk', 'geschlecht', 'vorname', 'anzahl', 'freq_dev']]\n",
    "    \n",
    "    save_df = save_df[['bezirk', 'vorname', 'anzahl', 'freq_dev']]\n",
    "    save_df.to_csv('../data/processed/beliebte_namen_'+str(year)+'.csv', sep=',', index=False)\n",
    "    \n",
    "save_df(uncommon, year)"
   ]
  }
 ],
 "metadata": {
  "kernelspec": {
   "display_name": "Python 3",
   "language": "python",
   "name": "python3"
  },
  "language_info": {
   "codemirror_mode": {
    "name": "ipython",
    "version": 3
   },
   "file_extension": ".py",
   "mimetype": "text/x-python",
   "name": "python",
   "nbconvert_exporter": "python",
   "pygments_lexer": "ipython3",
   "version": "3.6.5"
  }
 },
 "nbformat": 4,
 "nbformat_minor": 2
}
