{
 "cells": [
  {
   "cell_type": "code",
   "execution_count": 1,
   "metadata": {
    "collapsed": true,
    "deletable": true,
    "editable": true
   },
   "outputs": [],
   "source": [
    "import pandas as pd\n",
    "import matplotlib.pyplot as plt\n",
    "%matplotlib inline\n"
   ]
  },
  {
   "cell_type": "code",
   "execution_count": 2,
   "metadata": {
    "collapsed": false,
    "deletable": true,
    "editable": true
   },
   "outputs": [],
   "source": [
    "bezirke = [\n",
    "    'charlottenburg-wilmersdorf',\n",
    "    'friedrichshain-kreuzberg',\n",
    "    'lichtenberg',\n",
    "    'marzahn-hellersdorf',\n",
    "    'mitte',\n",
    "    'neukoelln',\n",
    "    'pankow',\n",
    "    'reinickendorf',\n",
    "    'spandau',\n",
    "    'steglitz-zehlendorf',\n",
    "    'tempelhof-schoeneberg',\n",
    "    'treptow-koepenick'\n",
    "]\n",
    "years = [2013, 2014, 2015, 2016]\n",
    "data_path = '../data/raw/'\n",
    "\n",
    "dfs = []\n",
    "for year in years:\n",
    "    for bezirk in bezirke:\n",
    "        df = pd.read_csv( data_path + str(year) +'-'+ bezirk + '.csv', sep=';')\n",
    "        df = df.dropna()\n",
    "        df = df.assign(Bezirk=bezirk.title(), Year=year)\n",
    "        total_number_names = df['anzahl'].sum()\n",
    "        df = df.assign(frequency = lambda df: df['anzahl']/total_number_names )\n",
    "        #df_m = df[df['geschlecht']=='m']\n",
    "        #print(df_m[ df_m['frequency'] == df_m['frequency'].max() ]['vorname'])\n",
    "        dfs.append(df)\n",
    "        \n",
    "df = pd.concat(dfs)\n",
    "#df = df.sort_values('anzahl', ascending=False )"
   ]
  },
  {
   "cell_type": "code",
   "execution_count": 3,
   "metadata": {
    "collapsed": false,
    "deletable": true,
    "editable": true
   },
   "outputs": [
    {
     "data": {
      "text/html": [
       "<div>\n",
       "<table border=\"1\" class=\"dataframe\">\n",
       "  <thead>\n",
       "    <tr style=\"text-align: right;\">\n",
       "      <th></th>\n",
       "      <th>Bezirk</th>\n",
       "      <th>Year</th>\n",
       "      <th>anzahl</th>\n",
       "      <th>frequency</th>\n",
       "      <th>geschlecht</th>\n",
       "      <th>vorname</th>\n",
       "    </tr>\n",
       "  </thead>\n",
       "  <tbody>\n",
       "    <tr>\n",
       "      <th>0</th>\n",
       "      <td>Charlottenburg-Wilmersdorf</td>\n",
       "      <td>2013</td>\n",
       "      <td>121</td>\n",
       "      <td>0.013668</td>\n",
       "      <td>w</td>\n",
       "      <td>Marie</td>\n",
       "    </tr>\n",
       "    <tr>\n",
       "      <th>1</th>\n",
       "      <td>Charlottenburg-Wilmersdorf</td>\n",
       "      <td>2013</td>\n",
       "      <td>96</td>\n",
       "      <td>0.010844</td>\n",
       "      <td>w</td>\n",
       "      <td>Sophie</td>\n",
       "    </tr>\n",
       "    <tr>\n",
       "      <th>2</th>\n",
       "      <td>Charlottenburg-Wilmersdorf</td>\n",
       "      <td>2013</td>\n",
       "      <td>77</td>\n",
       "      <td>0.008698</td>\n",
       "      <td>w</td>\n",
       "      <td>Charlotte</td>\n",
       "    </tr>\n",
       "    <tr>\n",
       "      <th>3</th>\n",
       "      <td>Charlottenburg-Wilmersdorf</td>\n",
       "      <td>2013</td>\n",
       "      <td>66</td>\n",
       "      <td>0.007455</td>\n",
       "      <td>w</td>\n",
       "      <td>Emilia</td>\n",
       "    </tr>\n",
       "    <tr>\n",
       "      <th>4</th>\n",
       "      <td>Charlottenburg-Wilmersdorf</td>\n",
       "      <td>2013</td>\n",
       "      <td>64</td>\n",
       "      <td>0.007229</td>\n",
       "      <td>m</td>\n",
       "      <td>Paul</td>\n",
       "    </tr>\n",
       "  </tbody>\n",
       "</table>\n",
       "</div>"
      ],
      "text/plain": [
       "                       Bezirk  Year  anzahl  frequency geschlecht    vorname\n",
       "0  Charlottenburg-Wilmersdorf  2013     121   0.013668          w      Marie\n",
       "1  Charlottenburg-Wilmersdorf  2013      96   0.010844          w     Sophie\n",
       "2  Charlottenburg-Wilmersdorf  2013      77   0.008698          w  Charlotte\n",
       "3  Charlottenburg-Wilmersdorf  2013      66   0.007455          w     Emilia\n",
       "4  Charlottenburg-Wilmersdorf  2013      64   0.007229          m       Paul"
      ]
     },
     "execution_count": 3,
     "metadata": {},
     "output_type": "execute_result"
    }
   ],
   "source": [
    "df.head()"
   ]
  },
  {
   "cell_type": "code",
   "execution_count": 4,
   "metadata": {
    "collapsed": false,
    "deletable": true,
    "editable": true
   },
   "outputs": [
    {
     "name": "stdout",
     "output_type": "stream",
     "text": [
      "<class 'pandas.core.frame.DataFrame'>\n",
      "Int64Index: 109988 entries, 0 to 1127\n",
      "Data columns (total 6 columns):\n",
      "Bezirk        109988 non-null object\n",
      "Year          109988 non-null int64\n",
      "anzahl        109988 non-null int64\n",
      "frequency     109988 non-null float64\n",
      "geschlecht    109988 non-null object\n",
      "vorname       109988 non-null object\n",
      "dtypes: float64(1), int64(2), object(3)\n",
      "memory usage: 5.9+ MB\n"
     ]
    }
   ],
   "source": [
    "df.info()"
   ]
  },
  {
   "cell_type": "code",
   "execution_count": 5,
   "metadata": {
    "collapsed": false,
    "deletable": true,
    "editable": true
   },
   "outputs": [
    {
     "data": {
      "text/plain": [
       "1.0000000000000002"
      ]
     },
     "execution_count": 5,
     "metadata": {},
     "output_type": "execute_result"
    }
   ],
   "source": [
    "df[ (df['Year']==2015) & (df['Bezirk']=='Mitte')  ]['frequency'].sum()"
   ]
  },
  {
   "cell_type": "code",
   "execution_count": 6,
   "metadata": {
    "collapsed": false,
    "deletable": true,
    "editable": true
   },
   "outputs": [
    {
     "data": {
      "text/plain": [
       "Bezirk        Treptow-Koepenick\n",
       "Year                       2016\n",
       "anzahl                      128\n",
       "frequency             0.0169067\n",
       "geschlecht                    w\n",
       "vorname                    Ọňum\n",
       "dtype: object"
      ]
     },
     "execution_count": 6,
     "metadata": {},
     "output_type": "execute_result"
    }
   ],
   "source": [
    "df.max()"
   ]
  },
  {
   "cell_type": "code",
   "execution_count": 11,
   "metadata": {
    "collapsed": false,
    "deletable": true,
    "editable": true
   },
   "outputs": [
    {
     "data": {
      "text/plain": [
       "<matplotlib.axes._subplots.AxesSubplot at 0x7f6a44ea29b0>"
      ]
     },
     "execution_count": 11,
     "metadata": {},
     "output_type": "execute_result"
    },
    {
     "data": {
      "image/png": "[encoded data removed]",
      "text/plain": [
       "<matplotlib.figure.Figure at 0x7f6a460f9898>"
      ]
     },
     "metadata": {},
     "output_type": "display_data"
    }
   ],
   "source": [
    "dfgroup = df[['Year','vorname','anzahl']].groupby(by=['vorname']).sum()\n",
    "dfgroup = dfgroup.sort_values('anzahl', ascending=False)\n",
    "#dfgroup.assign(name = dfgroup.index)\n",
    "#plt.bar(dfgroup[0:10].index, dfgroup['anzahl'][0:10])\n",
    "dfgroup[0:20].plot.bar(y='anzahl')\n",
    "#dfgroup.index\n",
    "#for vorname in dfgroup['vorname'].unique():\n",
    "#    nameseries = dfgroup[dfgroup['vorname'] == vorname]\n",
    "#    plt.plot(nameseries['Year'], nameseries['anzahl'], label=vorname )"
   ]
  },
  {
   "cell_type": "code",
   "execution_count": 82,
   "metadata": {
    "collapsed": false
   },
   "outputs": [
    {
     "data": {
      "image/png": "[encoded data removed]",
      "text/plain": [
       "<matplotlib.figure.Figure at 0x7f6a44167940>"
      ]
     },
     "metadata": {},
     "output_type": "display_data"
    }
   ],
   "source": [
    "plt.step(x=range(len(dfgroup)),y=dfgroup[ dfgroup['anzahl']>0]['anzahl'])\n",
    "ax = plt.gca()\n",
    "ax.set_yscale('log')\n",
    "ax.set_xscale('log')"
   ]
  },
  {
   "cell_type": "code",
   "execution_count": 66,
   "metadata": {
    "collapsed": false
   },
   "outputs": [
    {
     "data": {
      "text/plain": [
       "<matplotlib.legend.Legend at 0x7f6a44577d68>"
      ]
     },
     "execution_count": 66,
     "metadata": {},
     "output_type": "execute_result"
    },
    {
     "data": {
      "image/png": "[encoded data removed]",
      "text/plain": [
       "<matplotlib.figure.Figure at 0x7f6a446a7ef0>"
      ]
     },
     "metadata": {},
     "output_type": "display_data"
    }
   ],
   "source": [
    "dfgroup2 = df[['Year', 'vorname', 'anzahl']].groupby(by=['vorname', 'Year']).sum()\n",
    "#dfgroup2 = df[['Year', 'vorname', 'anzahl']].groupby(['vorname', 'Year']).sum().groupby('Year')\n",
    "\n",
    "#dfgroup2.reset_index()\n",
    "dfgroup2 = dfgroup2.sort_values('anzahl', ascending=False)\n",
    "best_names = dfgroup2.index.get_level_values('vorname').unique()[0:10]\n",
    "#years = dfgroup2.index.get_level_values('Year').unique()\n",
    "#dfgroup2.iloc[ dfgroup2.index['Year']==2015 ]\n",
    "\n",
    "#dfgroup2.loc['Marie'].sort_index()\n",
    "for name in best_names:\n",
    "    #dfgroup2.loc[name].sort_index().plot.line() \n",
    "    plt.plot(dfgroup2.loc[name].sort_index(), label=name)\n",
    "plt.legend(loc='right')\n",
    "#dfgroup2.iloc[dfgroup2.index.get_level_values('Year') == 2015]"
   ]
  },
  {
   "cell_type": "code",
   "execution_count": 8,
   "metadata": {
    "collapsed": false,
    "deletable": true,
    "editable": true
   },
   "outputs": [
    {
     "data": {
      "text/html": [
       "<div>\n",
       "<table border=\"1\" class=\"dataframe\">\n",
       "  <thead>\n",
       "    <tr style=\"text-align: right;\">\n",
       "      <th></th>\n",
       "      <th>Year</th>\n",
       "      <th>anzahl</th>\n",
       "    </tr>\n",
       "    <tr>\n",
       "      <th>vorname</th>\n",
       "      <th></th>\n",
       "      <th></th>\n",
       "    </tr>\n",
       "  </thead>\n",
       "  <tbody>\n",
       "    <tr>\n",
       "      <th>Marie</th>\n",
       "      <td>114823</td>\n",
       "      <td>2983</td>\n",
       "    </tr>\n",
       "    <tr>\n",
       "      <th>Sophie</th>\n",
       "      <td>96696</td>\n",
       "      <td>2718</td>\n",
       "    </tr>\n",
       "    <tr>\n",
       "      <th>Charlotte</th>\n",
       "      <td>96696</td>\n",
       "      <td>1829</td>\n",
       "    </tr>\n",
       "    <tr>\n",
       "      <th>Alexander</th>\n",
       "      <td>102742</td>\n",
       "      <td>1810</td>\n",
       "    </tr>\n",
       "    <tr>\n",
       "      <th>Maria</th>\n",
       "      <td>163172</td>\n",
       "      <td>1774</td>\n",
       "    </tr>\n",
       "  </tbody>\n",
       "</table>\n",
       "</div>"
      ],
      "text/plain": [
       "             Year  anzahl\n",
       "vorname                  \n",
       "Marie      114823    2983\n",
       "Sophie      96696    2718\n",
       "Charlotte   96696    1829\n",
       "Alexander  102742    1810\n",
       "Maria      163172    1774"
      ]
     },
     "execution_count": 8,
     "metadata": {},
     "output_type": "execute_result"
    }
   ],
   "source": [
    "dfgroup.head()"
   ]
  },
  {
   "cell_type": "code",
   "execution_count": 9,
   "metadata": {
    "collapsed": false,
    "deletable": true,
    "editable": true
   },
   "outputs": [
    {
     "data": {
      "text/html": [
       "<div>\n",
       "<table border=\"1\" class=\"dataframe\">\n",
       "  <thead>\n",
       "    <tr style=\"text-align: right;\">\n",
       "      <th></th>\n",
       "      <th></th>\n",
       "      <th></th>\n",
       "      <th>anzahl</th>\n",
       "      <th>frequency</th>\n",
       "    </tr>\n",
       "    <tr>\n",
       "      <th>Year</th>\n",
       "      <th>Bezirk</th>\n",
       "      <th>vorname</th>\n",
       "      <th></th>\n",
       "      <th></th>\n",
       "    </tr>\n",
       "  </thead>\n",
       "  <tbody>\n",
       "    <tr>\n",
       "      <th rowspan=\"10\" valign=\"top\">2013</th>\n",
       "      <th rowspan=\"10\" valign=\"top\">Charlottenburg-Wilmersdorf</th>\n",
       "      <th>Aaron</th>\n",
       "      <td>18</td>\n",
       "      <td>0.002033</td>\n",
       "    </tr>\n",
       "    <tr>\n",
       "      <th>Aarun</th>\n",
       "      <td>1</td>\n",
       "      <td>0.000113</td>\n",
       "    </tr>\n",
       "    <tr>\n",
       "      <th>Aba</th>\n",
       "      <td>1</td>\n",
       "      <td>0.000113</td>\n",
       "    </tr>\n",
       "    <tr>\n",
       "      <th>Abbas</th>\n",
       "      <td>1</td>\n",
       "      <td>0.000113</td>\n",
       "    </tr>\n",
       "    <tr>\n",
       "      <th>Abd</th>\n",
       "      <td>1</td>\n",
       "      <td>0.000113</td>\n",
       "    </tr>\n",
       "    <tr>\n",
       "      <th>Abdalaziz</th>\n",
       "      <td>1</td>\n",
       "      <td>0.000113</td>\n",
       "    </tr>\n",
       "    <tr>\n",
       "      <th>Abdallah</th>\n",
       "      <td>1</td>\n",
       "      <td>0.000113</td>\n",
       "    </tr>\n",
       "    <tr>\n",
       "      <th>Abdoul-Hamid</th>\n",
       "      <td>1</td>\n",
       "      <td>0.000113</td>\n",
       "    </tr>\n",
       "    <tr>\n",
       "      <th>Abdullah</th>\n",
       "      <td>4</td>\n",
       "      <td>0.000452</td>\n",
       "    </tr>\n",
       "    <tr>\n",
       "      <th>Abdullrazak</th>\n",
       "      <td>1</td>\n",
       "      <td>0.000113</td>\n",
       "    </tr>\n",
       "  </tbody>\n",
       "</table>\n",
       "</div>"
      ],
      "text/plain": [
       "                                              anzahl  frequency\n",
       "Year Bezirk                     vorname                        \n",
       "2013 Charlottenburg-Wilmersdorf Aaron             18   0.002033\n",
       "                                Aarun              1   0.000113\n",
       "                                Aba                1   0.000113\n",
       "                                Abbas              1   0.000113\n",
       "                                Abd                1   0.000113\n",
       "                                Abdalaziz          1   0.000113\n",
       "                                Abdallah           1   0.000113\n",
       "                                Abdoul-Hamid       1   0.000113\n",
       "                                Abdullah           4   0.000452\n",
       "                                Abdullrazak        1   0.000113"
      ]
     },
     "execution_count": 9,
     "metadata": {},
     "output_type": "execute_result"
    }
   ],
   "source": [
    "dfgroup = df.groupby(by=['Year', 'Bezirk', 'vorname']).sum()\n",
    "dfgroup.head(10)"
   ]
  },
  {
   "cell_type": "code",
   "execution_count": null,
   "metadata": {
    "collapsed": true,
    "deletable": true,
    "editable": true
   },
   "outputs": [],
   "source": []
  }
 ],
 "metadata": {
  "kernelspec": {
   "display_name": "Python 3",
   "language": "python",
   "name": "python3"
  },
  "language_info": {
   "codemirror_mode": {
    "name": "ipython",
    "version": 3
   },
   "file_extension": ".py",
   "mimetype": "text/x-python",
   "name": "python",
   "nbconvert_exporter": "python",
   "pygments_lexer": "ipython3",
   "version": "3.5.2"
  }
 },
 "nbformat": 4,
 "nbformat_minor": 0
}
